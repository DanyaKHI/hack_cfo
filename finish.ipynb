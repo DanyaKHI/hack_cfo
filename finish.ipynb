{
 "cells": [
  {
   "cell_type": "code",
   "execution_count": 1,
   "metadata": {},
   "outputs": [
    {
     "data": {
      "text/html": [
       "<div>\n",
       "<style scoped>\n",
       "    .dataframe tbody tr th:only-of-type {\n",
       "        vertical-align: middle;\n",
       "    }\n",
       "\n",
       "    .dataframe tbody tr th {\n",
       "        vertical-align: top;\n",
       "    }\n",
       "\n",
       "    .dataframe thead th {\n",
       "        text-align: right;\n",
       "    }\n",
       "</style>\n",
       "<table border=\"1\" class=\"dataframe\">\n",
       "  <thead>\n",
       "    <tr style=\"text-align: right;\">\n",
       "      <th></th>\n",
       "      <th>Question</th>\n",
       "      <th>Category</th>\n",
       "      <th>answer_class</th>\n",
       "    </tr>\n",
       "  </thead>\n",
       "  <tbody>\n",
       "    <tr>\n",
       "      <th>0</th>\n",
       "      <td>Какие документы я получу после окончания обуче...</td>\n",
       "      <td>Документы</td>\n",
       "      <td>0.0</td>\n",
       "    </tr>\n",
       "    <tr>\n",
       "      <th>1</th>\n",
       "      <td>Какие возможности для трудоустройства предоста...</td>\n",
       "      <td>Документы</td>\n",
       "      <td>0.0</td>\n",
       "    </tr>\n",
       "    <tr>\n",
       "      <th>2</th>\n",
       "      <td>Какие курсы и программы дополнительного образо...</td>\n",
       "      <td>Документы</td>\n",
       "      <td>0.0</td>\n",
       "    </tr>\n",
       "    <tr>\n",
       "      <th>3</th>\n",
       "      <td>Какие требования предъявляются к студентам при...</td>\n",
       "      <td>Документы</td>\n",
       "      <td>0.0</td>\n",
       "    </tr>\n",
       "    <tr>\n",
       "      <th>4</th>\n",
       "      <td>Какие перспективы карьерного роста ожидают мен...</td>\n",
       "      <td>Документы</td>\n",
       "      <td>0.0</td>\n",
       "    </tr>\n",
       "  </tbody>\n",
       "</table>\n",
       "</div>"
      ],
      "text/plain": [
       "                                            Question   Category  answer_class\n",
       "0  Какие документы я получу после окончания обуче...  Документы           0.0\n",
       "1  Какие возможности для трудоустройства предоста...  Документы           0.0\n",
       "2  Какие курсы и программы дополнительного образо...  Документы           0.0\n",
       "3  Какие требования предъявляются к студентам при...  Документы           0.0\n",
       "4  Какие перспективы карьерного роста ожидают мен...  Документы           0.0"
      ]
     },
     "execution_count": 1,
     "metadata": {},
     "output_type": "execute_result"
    }
   ],
   "source": [
    "import pandas as pd\n",
    "from sklearn.model_selection import train_test_split\n",
    "\n",
    "df = pd.read_csv('full_train.csv')\n",
    "df = df.drop(['Unnamed: 0', 'Unnamed: 0.1'], axis=1)\n",
    "df.head()"
   ]
  },
  {
   "cell_type": "markdown",
   "metadata": {},
   "source": [
    "Делаем лемматизвцию"
   ]
  },
  {
   "cell_type": "code",
   "execution_count": 99,
   "metadata": {},
   "outputs": [],
   "source": [
    "from natasha import Segmenter, MorphVocab, NewsEmbedding, NewsMorphTagger, Doc\n",
    "\n",
    "segmenter = Segmenter()\n",
    "morph_vocab = MorphVocab()\n",
    "emb = NewsEmbedding()\n",
    "morph_tagger = NewsMorphTagger(emb)\n",
    "\n",
    "def lemmatize_text(text):\n",
    "    doc = Doc(text)\n",
    "    doc.segment(segmenter)\n",
    "    doc.tag_morph(morph_tagger)\n",
    "    \n",
    "    for token in doc.tokens:\n",
    "        token.lemmatize(morph_vocab)\n",
    "    \n",
    "    return \" \".join([_.lemma for _ in doc.tokens])\n",
    "\n",
    "df['Question'] = df['Question'].apply(lemmatize_text)"
   ]
  },
  {
   "cell_type": "markdown",
   "metadata": {},
   "source": [
    "Делим на аспекты"
   ]
  },
  {
   "cell_type": "code",
   "execution_count": 2,
   "metadata": {},
   "outputs": [],
   "source": [
    "df_train, df_val = train_test_split(df, test_size=0.2, random_state=462)"
   ]
  },
  {
   "cell_type": "code",
   "execution_count": 3,
   "metadata": {},
   "outputs": [],
   "source": [
    "X_train = df_train['Question']\n",
    "y_train = df_train['Category']\n",
    "\n",
    "X_val = df_val['Question']\n",
    "y_val = df_val['Category']"
   ]
  },
  {
   "cell_type": "markdown",
   "metadata": {},
   "source": [
    "Обучаем CatBoost"
   ]
  },
  {
   "cell_type": "code",
   "execution_count": 103,
   "metadata": {},
   "outputs": [
    {
     "name": "stdout",
     "output_type": "stream",
     "text": [
      "Learning rate set to 0.085892\n",
      "0:\tlearn: 2.1879939\ttotal: 40.6ms\tremaining: 40.5s\n",
      "100:\tlearn: 0.9573599\ttotal: 4.57s\tremaining: 40.7s\n",
      "200:\tlearn: 0.7682722\ttotal: 9.16s\tremaining: 36.4s\n",
      "300:\tlearn: 0.6837746\ttotal: 13.5s\tremaining: 31.3s\n",
      "400:\tlearn: 0.6286321\ttotal: 17.9s\tremaining: 26.8s\n",
      "500:\tlearn: 0.5899114\ttotal: 22.4s\tremaining: 22.3s\n",
      "600:\tlearn: 0.5558465\ttotal: 26.9s\tremaining: 17.8s\n",
      "700:\tlearn: 0.5284173\ttotal: 31.3s\tremaining: 13.4s\n",
      "800:\tlearn: 0.5039806\ttotal: 35.7s\tremaining: 8.88s\n",
      "900:\tlearn: 0.4832714\ttotal: 40.2s\tremaining: 4.42s\n",
      "999:\tlearn: 0.4666038\ttotal: 44.7s\tremaining: 0us\n",
      "Train F1-micro 0.9155324259407526\n",
      "Validate F1-micro 0.8504\n"
     ]
    }
   ],
   "source": [
    "import pandas as pd\n",
    "from sklearn.model_selection import train_test_split\n",
    "from sklearn.feature_extraction.text import TfidfVectorizer\n",
    "from catboost import CatBoostClassifier\n",
    "from sklearn.pipeline import Pipeline\n",
    "from sklearn.metrics import f1_score, classification_report\n",
    "\n",
    "ppl_boost = Pipeline([\n",
    "    ('tfidf', TfidfVectorizer(lowercase=True, stop_words=None)),\n",
    "    ('classifier', CatBoostClassifier(verbose=100, random_seed=42, iterations=1000))\n",
    "])\n",
    "\n",
    "ppl_boost.fit(X_train, y_train)\n",
    "\n",
    "y_pred_train = ppl_boost.predict(X_train)\n",
    "y_pred = ppl_boost.predict(X_val)\n",
    "\n",
    "print(\"Train F1-micro\", f1_score(y_train, y_pred_train, average='micro'))\n",
    "print(\"Validate F1-micro\", f1_score(y_val, y_pred, average='micro'))"
   ]
  },
  {
   "cell_type": "markdown",
   "metadata": {},
   "source": [
    "Обучаем LogReg"
   ]
  },
  {
   "cell_type": "code",
   "execution_count": 104,
   "metadata": {},
   "outputs": [
    {
     "name": "stdout",
     "output_type": "stream",
     "text": [
      "Train F1-micro 0.9565652522017614\n",
      "Validate F1-micro 0.88\n"
     ]
    }
   ],
   "source": [
    "import pandas as pd\n",
    "from sklearn.feature_extraction.text import TfidfVectorizer\n",
    "from sklearn.linear_model import LogisticRegression\n",
    "from sklearn.pipeline import Pipeline\n",
    "from sklearn.metrics import f1_score, classification_report\n",
    "\n",
    "\n",
    "ppl_logreg = Pipeline([\n",
    "    ('tfidf', TfidfVectorizer(lowercase=True, stop_words=None)),\n",
    "    ('classifier', LogisticRegression(random_state=352, C=10, max_iter=1000))\n",
    "])\n",
    "\n",
    "ppl_logreg.fit(X_train, y_train)\n",
    "\n",
    "y_pred_train = ppl_logreg.predict(X_train)\n",
    "y_pred = ppl_logreg.predict(X_val)\n",
    "\n",
    "print(\"Train F1-micro\", f1_score(y_train, y_pred_train, average='micro'))\n",
    "print(\"Validate F1-micro\", f1_score(y_val, y_pred, average='micro'))"
   ]
  },
  {
   "cell_type": "markdown",
   "metadata": {},
   "source": [
    "Обучаем SVM"
   ]
  },
  {
   "cell_type": "code",
   "execution_count": 105,
   "metadata": {},
   "outputs": [
    {
     "name": "stderr",
     "output_type": "stream",
     "text": [
      "c:\\Users\\user\\AppData\\Local\\Programs\\Python\\Python311\\Lib\\site-packages\\sklearn\\svm\\_base.py:297: ConvergenceWarning: Solver terminated early (max_iter=1000).  Consider pre-processing your data with StandardScaler or MinMaxScaler.\n",
      "  warnings.warn(\n"
     ]
    },
    {
     "name": "stdout",
     "output_type": "stream",
     "text": [
      "Train F1-micro 0.9873899119295436\n",
      "Validate F1-micro 0.8984\n"
     ]
    }
   ],
   "source": [
    "import pandas as pd\n",
    "from sklearn.feature_extraction.text import TfidfVectorizer\n",
    "from sklearn.pipeline import Pipeline\n",
    "from sklearn.metrics import f1_score, classification_report\n",
    "from sklearn.svm import SVC\n",
    "\n",
    "ppl_svm = Pipeline([\n",
    "    ('tfidf', TfidfVectorizer(lowercase=True, stop_words=None)),\n",
    "    ('classifier', SVC(random_state=352, C=17, max_iter=1000, kernel='rbf', gamma=0.5))\n",
    "])\n",
    "\n",
    "ppl_svm.fit(X_train, y_train)\n",
    "\n",
    "y_pred_train = ppl_svm.predict(X_train)\n",
    "y_pred = ppl_svm.predict(X_val)\n",
    "\n",
    "print(\"Train F1-micro\", f1_score(y_train, y_pred_train, average='micro'))\n",
    "print(\"Validate F1-micro\", f1_score(y_val, y_pred, average='micro'))"
   ]
  },
  {
   "cell_type": "code",
   "execution_count": 142,
   "metadata": {},
   "outputs": [],
   "source": [
    "df_test = pd.read_excel('mtest.xlsx')\n",
    "df_test = df_test.dropna()\n",
    "df_test = df_test.rename(columns={'Вопросы': 'Question', \n",
    "                                  'Категория': 'Category', \n",
    "                                  'Ответ': 'answer_class',})\n"
   ]
  },
  {
   "cell_type": "code",
   "execution_count": 143,
   "metadata": {},
   "outputs": [],
   "source": [
    "df_test['Question'] = df_test['Question'].apply(lemmatize_text)"
   ]
  },
  {
   "cell_type": "code",
   "execution_count": 144,
   "metadata": {},
   "outputs": [],
   "source": [
    "X_test = df_test['Question']\n",
    "y_test = df_test['Category']"
   ]
  },
  {
   "cell_type": "markdown",
   "metadata": {},
   "source": [
    "Смотрим score на отстраненных данных"
   ]
  },
  {
   "cell_type": "code",
   "execution_count": 145,
   "metadata": {},
   "outputs": [
    {
     "name": "stdout",
     "output_type": "stream",
     "text": [
      "CatBoost F1-micro 0.78\n",
      "LogReg F1-micro 0.81\n",
      "SVM F1-micro 0.79\n"
     ]
    }
   ],
   "source": [
    "y_pred_boost = ppl_boost.predict(X_test)\n",
    "print(\"CatBoost F1-micro\", f1_score(y_test, y_pred_boost, average='micro'))\n",
    "\n",
    "y_pred_logreg = ppl_logreg.predict(X_test)\n",
    "print(\"LogReg F1-micro\", f1_score(y_test, y_pred_logreg, average='micro'))\n",
    "\n",
    "y_pred_svm = ppl_svm.predict(X_test)\n",
    "print(\"SVM F1-micro\", f1_score(y_test, y_pred_svm, average='micro'))"
   ]
  },
  {
   "cell_type": "markdown",
   "metadata": {},
   "source": [
    "Сохраняем модели"
   ]
  },
  {
   "cell_type": "code",
   "execution_count": 154,
   "metadata": {},
   "outputs": [
    {
     "data": {
      "text/plain": [
       "['Main_SVM.joblib']"
      ]
     },
     "execution_count": 154,
     "metadata": {},
     "output_type": "execute_result"
    }
   ],
   "source": [
    "joblib.dump(ppl_boost, f'Main_CatBoost.joblib')\n",
    "joblib.dump(ppl_logreg, f'Main_LogReg.joblib')\n",
    "joblib.dump(ppl_svm, f'Main_SVM.joblib')"
   ]
  },
  {
   "cell_type": "code",
   "execution_count": 156,
   "metadata": {},
   "outputs": [
    {
     "data": {
      "text/plain": [
       "array(['Документы', 'Организация уроков', 'Оценки',\n",
       "       'Перевод/ запись в группу', 'Практические работы',\n",
       "       'Программа обучения', 'Портал', 'Расписание', 'Требования ПО',\n",
       "       'Трудоустройство'], dtype=object)"
      ]
     },
     "execution_count": 156,
     "metadata": {},
     "output_type": "execute_result"
    }
   ],
   "source": [
    "caters = {}\n",
    "u_caters = df['Category'].unique()\n",
    "for cat in u_caters:\n",
    "    caters[cat] = len(caters)\n",
    "\n",
    "u_caters"
   ]
  },
  {
   "cell_type": "markdown",
   "metadata": {},
   "source": [
    "Ансамблируем путем голосования"
   ]
  },
  {
   "cell_type": "code",
   "execution_count": 147,
   "metadata": {},
   "outputs": [],
   "source": [
    "y_pred_ansamble = []\n",
    "for i in range(len(y_pred_boost)):\n",
    "    anses = []\n",
    "    anses.append(caters[y_pred_boost[i][0]])\n",
    "    anses.append(caters[y_pred_logreg[i]])\n",
    "    anses.append(caters[y_pred_svm[i]])\n",
    "    anses = sorted(anses)\n",
    "    if anses[0] == anses[-1]:\n",
    "        y_pred_ansamble.append(u_caters[anses[0]])\n",
    "    elif anses[0] == anses[1]:\n",
    "        y_pred_ansamble.append(u_caters[anses[0]])\n",
    "    elif anses[1] == anses[2]:\n",
    "        y_pred_ansamble.append(u_caters[anses[1]])\n",
    "    else:\n",
    "        y_pred_ansamble.append(y_pred_logreg[i])"
   ]
  },
  {
   "cell_type": "code",
   "execution_count": 148,
   "metadata": {},
   "outputs": [
    {
     "name": "stdout",
     "output_type": "stream",
     "text": [
      "Ansamble F1-micro 0.83\n"
     ]
    }
   ],
   "source": [
    "print(\"Ansamble F1-micro\", f1_score(y_test, y_pred_ansamble, average='micro'))"
   ]
  },
  {
   "cell_type": "code",
   "execution_count": 149,
   "metadata": {},
   "outputs": [
    {
     "data": {
      "text/plain": [
       "(array([['Документы']], dtype=object),\n",
       " array(['Документы'], dtype=object),\n",
       " array(['Документы'], dtype=object))"
      ]
     },
     "execution_count": 149,
     "metadata": {},
     "output_type": "execute_result"
    }
   ],
   "source": [
    "ques = ['Мне идти в 5F?']\n",
    "y_pred_boost = ppl_boost.predict(ques)\n",
    "y_pred_logreg = ppl_logreg.predict(ques)\n",
    "y_pred_svm = ppl_svm.predict(ques)\n",
    "\n",
    "y_pred_boost, y_pred_logreg, y_pred_svm"
   ]
  },
  {
   "cell_type": "code",
   "execution_count": 150,
   "metadata": {},
   "outputs": [],
   "source": [
    "categories = ['Документы', 'Организация уроков', 'Программа обучения', 'Портал', 'Расписание', 'Требования ПО', 'Трудоустройство']\n",
    "not_categories = {'Практические работы': 12,\n",
    "                  'Перевод/ запись в группу': 11,\n",
    "                  'Оценки': 10}"
   ]
  },
  {
   "cell_type": "markdown",
   "metadata": {},
   "source": [
    "Считываем модели по категориям(такие же LogReg)"
   ]
  },
  {
   "cell_type": "code",
   "execution_count": 151,
   "metadata": {},
   "outputs": [],
   "source": [
    "import joblib\n",
    "models_cats = {}\n",
    "\n",
    "for cat in categories:\n",
    "    models_cats[cat] = joblib.load(f'{cat}1.joblib')"
   ]
  },
  {
   "cell_type": "markdown",
   "metadata": {},
   "source": [
    "Предсказываем класс, на области предсказанных категорий"
   ]
  },
  {
   "cell_type": "code",
   "execution_count": 152,
   "metadata": {},
   "outputs": [],
   "source": [
    "y_pred = []\n",
    "\n",
    "for i in range(len(y_pred_ansamble)):\n",
    "    if y_pred_ansamble[i] in categories:\n",
    "        cur_pred = models_cats[y_pred_ansamble[i]].predict([X_test[i]])[0]\n",
    "        y_pred.append(cur_pred)\n",
    "    else:\n",
    "        y_pred.append(not_categories[y_pred_ansamble[i]])"
   ]
  }
 ],
 "metadata": {
  "kernelspec": {
   "display_name": "Python 3",
   "language": "python",
   "name": "python3"
  },
  "language_info": {
   "codemirror_mode": {
    "name": "ipython",
    "version": 3
   },
   "file_extension": ".py",
   "mimetype": "text/x-python",
   "name": "python",
   "nbconvert_exporter": "python",
   "pygments_lexer": "ipython3",
   "version": "3.11.4"
  }
 },
 "nbformat": 4,
 "nbformat_minor": 2
}
